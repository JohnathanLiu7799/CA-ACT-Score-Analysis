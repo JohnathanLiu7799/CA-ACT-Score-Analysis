{
 "cells": [
  {
   "cell_type": "markdown",
   "id": "77263ff2-875e-4477-93ea-e8881ca5755c",
   "metadata": {},
   "source": [
    "# Importing Datasets"
   ]
  },
  {
   "cell_type": "code",
   "execution_count": 1,
   "id": "8eae3451-a212-4f76-bfb6-e4a74b5b3937",
   "metadata": {},
   "outputs": [],
   "source": [
    "import numpy as np\n",
    "import pandas as pd\n",
    "\n",
    "import warnings\n",
    "warnings.filterwarnings('ignore')\n",
    "#lmao"
   ]
  },
  {
   "cell_type": "code",
   "execution_count": 2,
   "id": "4d72a1ef-9e40-4b27-9265-6af4bf02201f",
   "metadata": {},
   "outputs": [],
   "source": [
    "#importing all datasets to check what we have\n",
    "\n",
    "gdp_and_income = pd.read_csv(\"../data/gdp_and_income_ca.csv\")\n",
    "act_2019_ca = pd.read_csv(\"../data/act_2019_ca.csv\")\n",
    "ada_expenses = pd.read_excel('../data/currentexpense1920.xlsx')\n",
    "teacher_salaries = pd.read_csv('../data/teacher_salary_ca.csv')"
   ]
  },
  {
   "cell_type": "markdown",
   "id": "ad2c5ed9-0dba-4a3c-8fb0-b7f268938194",
   "metadata": {},
   "source": [
    "### Helper Methods"
   ]
  },
  {
   "cell_type": "code",
   "execution_count": 3,
   "id": "e1a7574d-6330-4e1f-9151-58b012e24533",
   "metadata": {},
   "outputs": [],
   "source": [
    "def post_merge_clean(df, index):\n",
    "    \"\"\"\n",
    "    This function takes the post merge df and\n",
    "    1. Drops the index_x and index_y columns\n",
    "    2. Renames key_0 to original index name\n",
    "    \"\"\"\n",
    "    df.drop([f'{index}_x',f'{index}_y'],\n",
    "            axis=1, \n",
    "            inplace=True)\n",
    "    \n",
    "    df.rename(columns = {\n",
    "    'key_0': f'{index}'\n",
    "    },\n",
    "    inplace = True)\n",
    "    \n",
    "    return df"
   ]
  },
  {
   "cell_type": "code",
   "execution_count": 4,
   "id": "87d9c144-64a6-473e-88af-41a1a4744a6f",
   "metadata": {},
   "outputs": [],
   "source": [
    "def clean_left_merge(left, right, index):\n",
    "    \"\"\"\n",
    "    Runs a left join merge on index and then calls\n",
    "    post_merge_clean\n",
    "    to clean up excess columns created during merge.\n",
    "    \n",
    "    Assumes index name exists in both dfs\n",
    "    \"\"\"\n",
    "    left = left.merge(\n",
    "    right=right,\n",
    "    how='left',\n",
    "    left_on = left[index],\n",
    "    right_on = right[index])\n",
    "    \n",
    "    post_merge_clean(left, index)\n",
    "    \n",
    "    return left"
   ]
  },
  {
   "cell_type": "markdown",
   "id": "ceed7c7d-0375-4b63-b9eb-368c612febde",
   "metadata": {},
   "source": [
    "# Cleaning California Income"
   ]
  },
  {
   "cell_type": "markdown",
   "id": "6935ad5c-7e8d-4e9e-a288-72e9eca51a25",
   "metadata": {},
   "source": [
    "## Splicing New Dataframes\n",
    "\n",
    "Because of how California Income is formatted, best to be split into three seperate tables, cleaned, and merged later"
   ]
  },
  {
   "cell_type": "code",
   "execution_count": 5,
   "id": "0d1cdf0d-ab6d-4604-a5e4-0d784d09a28f",
   "metadata": {},
   "outputs": [],
   "source": [
    "personal_income_ca = gdp_and_income[gdp_and_income['LineCode'] == 1]\n",
    "population_ca = gdp_and_income[gdp_and_income['LineCode'] == 2]\n",
    "per_capita_income_ca = gdp_and_income[gdp_and_income['LineCode'] == 3]"
   ]
  },
  {
   "cell_type": "markdown",
   "id": "d515b71c-b052-47e3-b754-a5a53c77b58d",
   "metadata": {},
   "source": [
    "## Dropping\n",
    "\n",
    "Removing unncessary columns"
   ]
  },
  {
   "cell_type": "code",
   "execution_count": 6,
   "id": "55a3494c-1276-49f8-9f93-8ade6d68091f",
   "metadata": {},
   "outputs": [],
   "source": [
    "per_capita_income_ca.drop(columns=['GeoFips','LineCode','Description'],inplace=True,axis=1)"
   ]
  },
  {
   "cell_type": "code",
   "execution_count": 7,
   "id": "92caf9e1-46ff-44fb-8d6c-c5a0955e2583",
   "metadata": {},
   "outputs": [],
   "source": [
    "population_ca.drop(columns=['GeoFips','LineCode','Description'],inplace=True,axis=1)"
   ]
  },
  {
   "cell_type": "code",
   "execution_count": 8,
   "id": "4be687bb-8dc8-4f07-9c12-6c391e320072",
   "metadata": {},
   "outputs": [],
   "source": [
    "personal_income_ca.drop(columns=['GeoFips','LineCode','Description'],inplace=True,axis=1)"
   ]
  },
  {
   "cell_type": "markdown",
   "id": "f53c9a58-d360-4069-a459-316493964db1",
   "metadata": {},
   "source": [
    "## Renaming\n",
    "\n",
    "Renaming useful columns"
   ]
  },
  {
   "cell_type": "code",
   "execution_count": 9,
   "id": "e9b5947a-926c-4bf5-9853-1c9fada12241",
   "metadata": {},
   "outputs": [],
   "source": [
    "per_capita_income_ca.rename(columns = {\n",
    "    'GeoName':'county',\n",
    "    '2019':'per_capita_income'\n",
    "    },\n",
    "    inplace = True)"
   ]
  },
  {
   "cell_type": "code",
   "execution_count": 10,
   "id": "3472ae88-f5e4-4435-9373-01d1e3e5ca02",
   "metadata": {},
   "outputs": [],
   "source": [
    "population_ca.rename(columns = {\n",
    "    'GeoName':'county',\n",
    "    '2019':'population'\n",
    "    },\n",
    "    inplace = True)"
   ]
  },
  {
   "cell_type": "code",
   "execution_count": 11,
   "id": "5e883dda-5ff5-4fc5-92f4-f57c54f03601",
   "metadata": {},
   "outputs": [],
   "source": [
    "personal_income_ca.rename(columns = {\n",
    "    'GeoName':'county',\n",
    "    '2019':'personal_income'\n",
    "    },\n",
    "    inplace = True)"
   ]
  },
  {
   "cell_type": "markdown",
   "id": "2970560c-d234-4639-b8a2-bf856f20cd68",
   "metadata": {},
   "source": [
    "## Merging\n",
    "\n",
    "Merging the three dataframes into one original one"
   ]
  },
  {
   "cell_type": "code",
   "execution_count": 12,
   "id": "b24e668a-ba18-4473-9baa-98f65911432e",
   "metadata": {},
   "outputs": [],
   "source": [
    "personal_income_ca = clean_left_merge(personal_income_ca, population_ca, 'county')"
   ]
  },
  {
   "cell_type": "code",
   "execution_count": 13,
   "id": "3c7ce375-2c63-4bad-9239-510f96ef1e98",
   "metadata": {},
   "outputs": [],
   "source": [
    "personal_income_ca = clean_left_merge(personal_income_ca, per_capita_income_ca, 'county')"
   ]
  },
  {
   "cell_type": "markdown",
   "id": "8f8b3c64-96c8-4307-81da-6ac15f96a05b",
   "metadata": {},
   "source": [
    "## Formatting Data\n",
    "\n",
    "Some data needs to be formatted correctly to be mergeable.\n",
    "\n",
    "* i.e. 'Los Angeles, CA' -> 'Los Angeles'"
   ]
  },
  {
   "cell_type": "code",
   "execution_count": 14,
   "id": "f4ac5cc6-1b01-44aa-b36d-0b4ae32ada6d",
   "metadata": {},
   "outputs": [],
   "source": [
    "personal_income_ca['county'] = personal_income_ca['county'].map(lambda string: string[:-4] if string[-4:] == ', CA' else string)"
   ]
  },
  {
   "cell_type": "markdown",
   "id": "ef640ad5-3ab9-4968-9eb8-149e83d2a12f",
   "metadata": {},
   "source": [
    "# Cleaning ACT"
   ]
  },
  {
   "cell_type": "markdown",
   "id": "5fac7ab6-368a-4559-8ee7-ba9097f69e5a",
   "metadata": {},
   "source": [
    "## Dropping"
   ]
  },
  {
   "cell_type": "code",
   "execution_count": 15,
   "id": "3416ff76-6ab5-4dda-8d58-eaa1565148fc",
   "metadata": {},
   "outputs": [],
   "source": [
    "act_2019_ca.drop(['CDS','CCode','SCode','SName','Unnamed: 17','Year'], axis=1, inplace=True)"
   ]
  },
  {
   "cell_type": "markdown",
   "id": "de13a81c-8a38-4a71-9540-cf5001feffb9",
   "metadata": {},
   "source": [
    "## Renaming"
   ]
  },
  {
   "cell_type": "code",
   "execution_count": 16,
   "id": "8927b9e0-385a-4845-89bf-c353e75d63dd",
   "metadata": {},
   "outputs": [],
   "source": [
    "act_2019_ca.rename(columns={\n",
    "    'RType':'report_type',\n",
    "    'CName':'county',\n",
    "    'CDCode':'cds_code',\n",
    "    'Enroll12':'enrolled_12',\n",
    "    'NumTstTakr':'num_test_taker',\n",
    "    'AvgScrRead':'avg_act_reading',\n",
    "    'AvgScrEng':'avg_act_english',\n",
    "    'AvgScrMath':'avg_act_math',\n",
    "    'AvgScrSci':'avg_act_sci',\n",
    "    'NumGE21':'num_over_21_score',\n",
    "    'PctGE21':'percent_over_21_score',\n",
    "    'DName':'ts1_dname'\n",
    "}, inplace=True)"
   ]
  },
  {
   "cell_type": "markdown",
   "id": "92386c16-7158-4346-a99d-48cf308ea554",
   "metadata": {},
   "source": [
    "## Null Values"
   ]
  },
  {
   "cell_type": "code",
   "execution_count": 17,
   "id": "6bd78dcd-753d-495d-a57f-c8c04d7f68f9",
   "metadata": {},
   "outputs": [],
   "source": [
    "for column in act_2019_ca:\n",
    "    act_2019_ca[column] = act_2019_ca[column].map(lambda cell: np.nan if cell == '*' else cell)"
   ]
  },
  {
   "cell_type": "code",
   "execution_count": 18,
   "id": "27943305-dfd8-40ca-9dae-8544b6b8a96e",
   "metadata": {},
   "outputs": [],
   "source": [
    "act_2019_ca.dropna(inplace=True)"
   ]
  },
  {
   "cell_type": "markdown",
   "id": "d025328a-59da-4b12-9459-f0761a40771a",
   "metadata": {},
   "source": [
    "## Merging"
   ]
  },
  {
   "cell_type": "code",
   "execution_count": 19,
   "id": "f1be80d9-076a-41bb-8382-3f2ea0503858",
   "metadata": {},
   "outputs": [],
   "source": [
    "act_2019_ca = clean_left_merge(act_2019_ca, personal_income_ca, 'county')"
   ]
  },
  {
   "cell_type": "markdown",
   "id": "50fdb326-6673-43cf-a3cf-dbb4675b4a2b",
   "metadata": {},
   "source": [
    "## Formatting"
   ]
  },
  {
   "cell_type": "code",
   "execution_count": 20,
   "id": "e82f941f-9141-4bee-8012-2b205b5e857c",
   "metadata": {},
   "outputs": [],
   "source": [
    "act_2019_ca['cds_code'] = act_2019_ca['cds_code'].map(lambda code: str(code)[2:-2])"
   ]
  },
  {
   "cell_type": "markdown",
   "id": "a47d009f-e0ed-4615-8e67-3f4f929e801a",
   "metadata": {},
   "source": [
    "# School Expenses"
   ]
  },
  {
   "cell_type": "markdown",
   "id": "6e11cfe0-d9ec-4360-b32c-948692106d4f",
   "metadata": {},
   "source": [
    "## Renaming"
   ]
  },
  {
   "cell_type": "code",
   "execution_count": 21,
   "id": "41687c73-9c26-4fd4-9cd9-0f78102d3c43",
   "metadata": {},
   "outputs": [],
   "source": [
    "ada_expenses.rename(columns={\n",
    "    'CO':'county_code',\n",
    "    'CDS':'cds_code',\n",
    "    'DISTRICT':'district',\n",
    "    'EDP 365':'edp_365',\n",
    "    'Current\\nExpense ADA':'current_expense_ada',\n",
    "    'Current\\nExpense Per ADA':'current_expense_per_ada',\n",
    "    'LEA_Type':'lea_type'\n",
    "}, inplace=True)"
   ]
  },
  {
   "cell_type": "markdown",
   "id": "7c6ba86b-a6ab-4c84-a17c-e748630ad6ca",
   "metadata": {},
   "source": [
    "## Formating Data"
   ]
  },
  {
   "cell_type": "code",
   "execution_count": 22,
   "id": "c18d99e2-7084-41bd-9042-748bf0ed8443",
   "metadata": {},
   "outputs": [],
   "source": [
    "ada_expenses['cds_code'] = ada_expenses['cds_code'].map(lambda code: str(code))"
   ]
  },
  {
   "cell_type": "markdown",
   "id": "51093344-8d7c-4d9d-a806-1ba83d38b74a",
   "metadata": {},
   "source": [
    "## Merging"
   ]
  },
  {
   "cell_type": "code",
   "execution_count": 23,
   "id": "aa420c2a-dd8a-447b-a90b-9b7bf3c40fa5",
   "metadata": {},
   "outputs": [],
   "source": [
    "act_2019_ca = clean_left_merge(act_2019_ca,ada_expenses,'cds_code')"
   ]
  },
  {
   "cell_type": "markdown",
   "id": "403c7713-77a6-4295-9bb6-3ab8294ba8b5",
   "metadata": {},
   "source": [
    "# Teacher Salaries"
   ]
  },
  {
   "cell_type": "code",
   "execution_count": 24,
   "id": "98a7ae55-b9e1-4089-9b2f-5ba53e343d4e",
   "metadata": {},
   "outputs": [],
   "source": [
    "teacher_salaries.rename(columns=\n",
    "    {'District':'district',\n",
    "    'Teachers':'teachers',\n",
    "    '2013-14':'avg_teacher_salary_13_14',\n",
    "     '2017-18':'avg_teacher_salary_17_18',\n",
    "    '2018-19':'avg_teacher_salary_18_19'},\n",
    "                       inplace=True)"
   ]
  },
  {
   "cell_type": "code",
   "execution_count": 25,
   "id": "6e1f4823-3c03-4efa-b2c8-53fdec5e739d",
   "metadata": {},
   "outputs": [
    {
     "data": {
      "text/plain": [
       "<bound method IndexOpsMixin.value_counts of 0      Alameda County Office of Ed. (Alameda)\n",
       "1                 New Haven Unified (Alameda)\n",
       "2                Pleasanton Unified (Alameda)\n",
       "3                   Hayward Unified (Alameda)\n",
       "4                   Fremont Unified (Alameda)\n",
       "                        ...                  \n",
       "823           Marysville Joint Unified (Yuba)\n",
       "824                     Wheatland High (Yuba)\n",
       "825                  Plumas Elementary (Yuba)\n",
       "826          Yuba County Office of Ed. (Yuba)\n",
       "827            Camptonville Elementary (Yuba)\n",
       "Name: district, Length: 828, dtype: object>"
      ]
     },
     "execution_count": 25,
     "metadata": {},
     "output_type": "execute_result"
    }
   ],
   "source": [
    "teacher_salaries['district'].value_counts"
   ]
  },
  {
   "cell_type": "code",
   "execution_count": 26,
   "id": "bf39d635-aded-46ce-a208-28495b86fa69",
   "metadata": {},
   "outputs": [],
   "source": [
    "teacher_salaries['district'] = teacher_salaries['district'].map(lambda name: name[:name.index('(')-1])"
   ]
  },
  {
   "cell_type": "code",
   "execution_count": 27,
   "id": "c08a5f25-e67a-4452-982d-633d5e1e3fc7",
   "metadata": {},
   "outputs": [],
   "source": [
    "final = clean_left_merge(act_2019_ca,teacher_salaries,'district')"
   ]
  },
  {
   "cell_type": "code",
   "execution_count": 28,
   "id": "5040a0a3-9589-4233-a6e4-4af8653b0a82",
   "metadata": {},
   "outputs": [],
   "source": [
    "final.drop(['ts1_dname'],axis=1,inplace=True)"
   ]
  },
  {
   "cell_type": "code",
   "execution_count": 29,
   "id": "6c750b24-37eb-4ec0-8ee8-a71f13bd5f26",
   "metadata": {},
   "outputs": [],
   "source": [
    "final.dropna(inplace=True)"
   ]
  },
  {
   "cell_type": "markdown",
   "id": "148f5846-8382-434f-b5ec-d4ea216e8df7",
   "metadata": {},
   "source": [
    "## Exporting"
   ]
  },
  {
   "cell_type": "code",
   "execution_count": 30,
   "id": "997eaeb9-a2d3-4d15-b314-5a299848aee4",
   "metadata": {},
   "outputs": [],
   "source": [
    "final.to_csv('../data/processed/final.csv',index=False)"
   ]
  },
  {
   "cell_type": "code",
   "execution_count": null,
   "id": "8b79cbea-45b1-45f6-8bb2-63412d53ab22",
   "metadata": {},
   "outputs": [],
   "source": []
  }
 ],
 "metadata": {
  "kernelspec": {
   "display_name": "Python [conda env:dsi-111]",
   "language": "python",
   "name": "conda-env-dsi-111-py"
  },
  "language_info": {
   "codemirror_mode": {
    "name": "ipython",
    "version": 3
   },
   "file_extension": ".py",
   "mimetype": "text/x-python",
   "name": "python",
   "nbconvert_exporter": "python",
   "pygments_lexer": "ipython3",
   "version": "3.8.8"
  }
 },
 "nbformat": 4,
 "nbformat_minor": 5
}
